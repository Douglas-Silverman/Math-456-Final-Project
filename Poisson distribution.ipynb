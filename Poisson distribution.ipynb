{
 "cells": [
  {
   "cell_type": "code",
   "execution_count": 1,
   "metadata": {},
   "outputs": [],
   "source": [
    "import math"
   ]
  },
  {
   "cell_type": "code",
   "execution_count": 2,
   "metadata": {},
   "outputs": [],
   "source": [
    "def poisson(lambdaa, k):\n",
    "    pmf = ((lambdaa**k) * math.exp(-lambdaa)) / math.factorial(k)\n",
    "    return pmf"
   ]
  },
  {
   "cell_type": "code",
   "execution_count": 3,
   "metadata": {},
   "outputs": [],
   "source": [
    "#Season's Home and Away attack and defesne srength example from the website. \n",
    "Home_score = 567\n",
    "Away_score = 459\n",
    "number_of_games = 380\n",
    "Attack_strengthH = Home_score/number_of_games\n",
    "Attack_strengthA = Away_score/number_of_games\n",
    "\n",
    "#Conceded goals is just the two numbers in reverse\n",
    "Defense_strengthH = Attack_strengthA\n",
    "Defense_strengthA = Attack_strengthH\n",
    "\n",
    "#Tottenham Hotspur's goal\n",
    "# Attack strength (home goals scored/total home games)/Home_score/number_of_games\n",
    "AttackH = (35/19)/Attack_strengthH\n",
    "\n",
    "#Everton's defense strength away goals conceded from home/total away games **total home and away games are the same\n",
    "DefenseA = (25/19)/Defense_strengthA\n",
    "\n",
    "#Tottenham's Attack * Everton's Defense * Season's Away Defense Strength\n",
    "likely_goals_TH = AttackH*DefenseA*Defense_strengthA\n",
    "\n",
    "#Everton's goal\n",
    "#Attack away goals scored/total away games\n",
    "AttackA = (24/19)/Attack_strengthA\n",
    "#Tot's Defense strength home goals conceded from away/total home games\n",
    "DefenseH = (15/19)/Defense_strengthH\n",
    "\n",
    "#Everton's Attack * Tottenham's Defense * Season's Home Defense Strength\n",
    "likely_goals_EV = AttackA*DefenseH*Defense_strengthH\n"
   ]
  },
  {
   "cell_type": "code",
   "execution_count": 4,
   "metadata": {},
   "outputs": [
    {
     "name": "stdout",
     "output_type": "stream",
     "text": [
      "[19.702366136735677, 32.00514317208525, 25.99508054912707, 14.075742121034803, 5.716269542330574]\n",
      "[43.79750230407325, 36.158928630813826, 14.926286328509317, 4.107681136156675, 0.847818603953906]\n"
     ]
    }
   ],
   "source": [
    "# Calculates probabiliy of getting specific score based on goals made in season and poisson\n",
    "TotGoals = []\n",
    "EverGoals = []\n",
    "for i in range(0,5):\n",
    "    TotGoals.append(poisson(likely_goals_TH,i)*100)\n",
    "    EverGoals.append(poisson(likely_goals_EV,i)*100)\n",
    "print(TotGoals)\n",
    "print(EverGoals)"
   ]
  },
  {
   "cell_type": "code",
   "execution_count": 6,
   "metadata": {},
   "outputs": [
    {
     "name": "stdout",
     "output_type": "stream",
     "text": [
      "0.5381619653691863\n"
     ]
    }
   ],
   "source": [
    "#Calculate probablility that Tottenham wins regardless of score (up to 4 in this case)\n",
    "probWin = 0\n",
    "for i in range (1,5):\n",
    "    for j in range(0,i):\n",
    "        probWin += poisson(likely_goals_TH,i) * poisson(likely_goals_EV,j)\n",
    "print(probWin*100)"
   ]
  },
  {
   "cell_type": "code",
   "execution_count": 12,
   "metadata": {},
   "outputs": [
    {
     "name": "stdout",
     "output_type": "stream",
     "text": [
      "24.70861149507902\n"
     ]
    }
   ],
   "source": [
    "probDraw = 0\n",
    "for i in range (0,5):\n",
    "        probDraw += poisson(likely_goals_TH,i) * poisson(likely_goals_EV,i)\n",
    "print(probDraw*100)"
   ]
  },
  {
   "cell_type": "code",
   "execution_count": null,
   "metadata": {},
   "outputs": [],
   "source": []
  }
 ],
 "metadata": {
  "kernelspec": {
   "display_name": "Python 3",
   "language": "python",
   "name": "python3"
  },
  "language_info": {
   "codemirror_mode": {
    "name": "ipython",
    "version": 3
   },
   "file_extension": ".py",
   "mimetype": "text/x-python",
   "name": "python",
   "nbconvert_exporter": "python",
   "pygments_lexer": "ipython3",
   "version": "3.7.4"
  }
 },
 "nbformat": 4,
 "nbformat_minor": 2
}
