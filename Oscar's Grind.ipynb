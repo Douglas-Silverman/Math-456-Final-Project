{
 "cells": [
  {
   "cell_type": "code",
   "execution_count": 1,
   "metadata": {},
   "outputs": [],
   "source": [
    "import sqlite3\n",
    "import pandas as pd\n",
    "import numpy as np\n",
    "import seaborn as sns\n",
    "import pdb\n",
    "import random\n",
    "import matplotlib.pyplot as plt"
   ]
  },
  {
   "cell_type": "markdown",
   "metadata": {},
   "source": [
    "coin flip"
   ]
  },
  {
   "cell_type": "code",
   "execution_count": 2,
   "metadata": {},
   "outputs": [],
   "source": [
    "def Oscars_Grind(n):\n",
    "    betting_step_list = []\n",
    "    for i in range(n):\n",
    "        betsize = 1\n",
    "        profit = 0 \n",
    "        betting_steps = 0\n",
    "        while profit != 1:\n",
    "            prob = random.randrange(0,100,1)\n",
    "            betting_steps = betting_steps + 1\n",
    "            if prob > 50:\n",
    "                profit = profit + betsize\n",
    "                if profit < 1:\n",
    "                    if profit + betsize + 1 > 1:\n",
    "                        betsize = 1 - profit\n",
    "                    else:\n",
    "                        betsize = betsize + 1\n",
    "                        \n",
    "            else:\n",
    "                profit = profit - betsize \n",
    "        betting_step_list.append(betting_steps)\n",
    "    return(betting_step_list)"
   ]
  },
  {
   "cell_type": "code",
   "execution_count": 3,
   "metadata": {},
   "outputs": [
    {
     "data": {
      "text/plain": [
       "[1]"
      ]
     },
     "execution_count": 3,
     "metadata": {},
     "output_type": "execute_result"
    }
   ],
   "source": [
    "Oscars_Grind(1)"
   ]
  },
  {
   "cell_type": "code",
   "execution_count": 4,
   "metadata": {},
   "outputs": [
    {
     "data": {
      "image/png": "[encoded data removed]",
      "text/plain": [
       "<Figure size 432x288 with 1 Axes>"
      ]
     },
     "metadata": {
      "needs_background": "light"
     },
     "output_type": "display_data"
    }
   ],
   "source": [
    "plt.hist(Oscars_Grind(100))\n",
    "plt.title(\"Frequency of Steps it takes to win with a fair coin\")\n",
    "plt.ylabel(\"Frequency\")\n",
    "plt.xlabel(\"Number of Steps\")\n",
    "plt.show()"
   ]
  },
  {
   "cell_type": "code",
   "execution_count": null,
   "metadata": {},
   "outputs": [],
   "source": []
  },
  {
   "cell_type": "code",
   "execution_count": null,
   "metadata": {},
   "outputs": [],
   "source": []
  }
 ],
 "metadata": {
  "kernelspec": {
   "display_name": "Python 3",
   "language": "python",
   "name": "python3"
  },
  "language_info": {
   "codemirror_mode": {
    "name": "ipython",
    "version": 3
   },
   "file_extension": ".py",
   "mimetype": "text/x-python",
   "name": "python",
   "nbconvert_exporter": "python",
   "pygments_lexer": "ipython3",
   "version": "3.7.4"
  }
 },
 "nbformat": 4,
 "nbformat_minor": 2
}
